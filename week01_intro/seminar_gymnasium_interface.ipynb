{
  "cells": [
    {
      "cell_type": "code",
      "execution_count": 1,
      "metadata": {
        "id": "vOCZU6QdZmOg",
        "outputId": "805acd92-48c3-4bf3-c4e4-869a3b68a571",
        "colab": {
          "base_uri": "https://localhost:8080/"
        }
      },
      "outputs": [
        {
          "output_type": "stream",
          "name": "stdout",
          "text": [
            "Selecting previously unselected package libfontenc1:amd64.\n",
            "(Reading database ... 121753 files and directories currently installed.)\n",
            "Preparing to unpack .../0-libfontenc1_1%3a1.1.4-1build3_amd64.deb ...\n",
            "Unpacking libfontenc1:amd64 (1:1.1.4-1build3) ...\n",
            "Selecting previously unselected package libxfont2:amd64.\n",
            "Preparing to unpack .../1-libxfont2_1%3a2.0.5-1build1_amd64.deb ...\n",
            "Unpacking libxfont2:amd64 (1:2.0.5-1build1) ...\n",
            "Selecting previously unselected package libxkbfile1:amd64.\n",
            "Preparing to unpack .../2-libxkbfile1_1%3a1.1.0-1build3_amd64.deb ...\n",
            "Unpacking libxkbfile1:amd64 (1:1.1.0-1build3) ...\n",
            "Selecting previously unselected package x11-xkb-utils.\n",
            "Preparing to unpack .../3-x11-xkb-utils_7.7+5build4_amd64.deb ...\n",
            "Unpacking x11-xkb-utils (7.7+5build4) ...\n",
            "Selecting previously unselected package xfonts-encodings.\n",
            "Preparing to unpack .../4-xfonts-encodings_1%3a1.0.5-0ubuntu2_all.deb ...\n",
            "Unpacking xfonts-encodings (1:1.0.5-0ubuntu2) ...\n",
            "Selecting previously unselected package xfonts-utils.\n",
            "Preparing to unpack .../5-xfonts-utils_1%3a7.7+6build2_amd64.deb ...\n",
            "Unpacking xfonts-utils (1:7.7+6build2) ...\n",
            "Selecting previously unselected package xfonts-base.\n",
            "Preparing to unpack .../6-xfonts-base_1%3a1.0.5_all.deb ...\n",
            "Unpacking xfonts-base (1:1.0.5) ...\n",
            "Selecting previously unselected package xserver-common.\n",
            "Preparing to unpack .../7-xserver-common_2%3a21.1.4-2ubuntu1.7~22.04.9_all.deb ...\n",
            "Unpacking xserver-common (2:21.1.4-2ubuntu1.7~22.04.9) ...\n",
            "Selecting previously unselected package xvfb.\n",
            "Preparing to unpack .../8-xvfb_2%3a21.1.4-2ubuntu1.7~22.04.9_amd64.deb ...\n",
            "Unpacking xvfb (2:21.1.4-2ubuntu1.7~22.04.9) ...\n",
            "Setting up libfontenc1:amd64 (1:1.1.4-1build3) ...\n",
            "Setting up xfonts-encodings (1:1.0.5-0ubuntu2) ...\n",
            "Setting up libxkbfile1:amd64 (1:1.1.0-1build3) ...\n",
            "Setting up libxfont2:amd64 (1:2.0.5-1build1) ...\n",
            "Setting up x11-xkb-utils (7.7+5build4) ...\n",
            "Setting up xfonts-utils (1:7.7+6build2) ...\n",
            "Setting up xfonts-base (1:1.0.5) ...\n",
            "Setting up xserver-common (2:21.1.4-2ubuntu1.7~22.04.9) ...\n",
            "Setting up xvfb (2:21.1.4-2ubuntu1.7~22.04.9) ...\n",
            "Processing triggers for man-db (2.10.2-1) ...\n",
            "Processing triggers for fontconfig (2.13.1-4.2ubuntu5) ...\n",
            "Processing triggers for libc-bin (2.35-0ubuntu3.4) ...\n",
            "/sbin/ldconfig.real: /usr/local/lib/libtbbbind_2_0.so.3 is not a symbolic link\n",
            "\n",
            "/sbin/ldconfig.real: /usr/local/lib/libtbbbind_2_5.so.3 is not a symbolic link\n",
            "\n",
            "/sbin/ldconfig.real: /usr/local/lib/libtbb.so.12 is not a symbolic link\n",
            "\n",
            "/sbin/ldconfig.real: /usr/local/lib/libtbbmalloc.so.2 is not a symbolic link\n",
            "\n",
            "/sbin/ldconfig.real: /usr/local/lib/libtbbmalloc_proxy.so.2 is not a symbolic link\n",
            "\n",
            "/sbin/ldconfig.real: /usr/local/lib/libtbbbind.so.3 is not a symbolic link\n",
            "\n",
            "Starting virtual X frame buffer: Xvfb.\n"
          ]
        }
      ],
      "source": [
        "import sys, os\n",
        "if 'google.colab' in sys.modules and not os.path.exists('.setup_complete'):\n",
        "    !wget -q https://raw.githubusercontent.com/yandexdataschool/Practical_RL/master/setup_colab.sh -O- | bash\n",
        "\n",
        "    !touch .setup_complete\n",
        "\n",
        "# This code creates a virtual display to draw game images on.\n",
        "# It will have no effect if your machine has a monitor.\n",
        "if type(os.environ.get(\"DISPLAY\")) is not str or len(os.environ.get(\"DISPLAY\")) == 0:\n",
        "    !bash ../xvfb start\n",
        "    os.environ['DISPLAY'] = ':1'"
      ]
    },
    {
      "cell_type": "code",
      "execution_count": 2,
      "metadata": {
        "id": "m9zzl5xeZmOl"
      },
      "outputs": [],
      "source": [
        "import numpy as np\n",
        "import matplotlib.pyplot as plt\n",
        "%matplotlib inline"
      ]
    },
    {
      "cell_type": "markdown",
      "metadata": {
        "id": "Sb6ZK63-ZmOl"
      },
      "source": [
        "### OpenAI Gym --> Farama Gymnasium\n",
        "\n",
        "We're gonna spend several next weeks learning algorithms that solve decision processes. We are then in need of some interesting decision problems to test our algorithms.\n",
        "\n",
        "That's where Gymnasium comes into play. It's a Python library that wraps many classical decision problems including robot control, videogames and board games.\n",
        "\n",
        "The library Gym by OpenAi has been replaced by Gymnsasium while saving all functionality comparable with the latest version of Gym.\n",
        "\n",
        "Announce: https://farama.org/Announcing-The-Farama-Foundation\n",
        "\n",
        "Github: https://github.com/Farama-Foundation/Gymnasium\n",
        "\n",
        "Documentation: https://gymnasium.farama.org/\n",
        "\n",
        "So here's how it works:"
      ]
    },
    {
      "cell_type": "code",
      "source": [
        "!pip install gymnasium"
      ],
      "metadata": {
        "id": "GNts13a5pr57",
        "outputId": "679f98fe-1f61-4186-984c-0dd1d41e634d",
        "colab": {
          "base_uri": "https://localhost:8080/"
        }
      },
      "execution_count": 4,
      "outputs": [
        {
          "output_type": "stream",
          "name": "stdout",
          "text": [
            "Collecting gymnasium\n",
            "  Downloading gymnasium-0.29.1-py3-none-any.whl (953 kB)\n",
            "\u001b[2K     \u001b[90m━━━━━━━━━━━━━━━━━━━━━━━━━━━━━━━━━━━━━━━━\u001b[0m \u001b[32m953.9/953.9 kB\u001b[0m \u001b[31m5.8 MB/s\u001b[0m eta \u001b[36m0:00:00\u001b[0m\n",
            "\u001b[?25hRequirement already satisfied: numpy>=1.21.0 in /usr/local/lib/python3.10/dist-packages (from gymnasium) (1.25.2)\n",
            "Requirement already satisfied: cloudpickle>=1.2.0 in /usr/local/lib/python3.10/dist-packages (from gymnasium) (2.2.1)\n",
            "Requirement already satisfied: typing-extensions>=4.3.0 in /usr/local/lib/python3.10/dist-packages (from gymnasium) (4.10.0)\n",
            "Collecting farama-notifications>=0.0.1 (from gymnasium)\n",
            "  Downloading Farama_Notifications-0.0.4-py3-none-any.whl (2.5 kB)\n",
            "Installing collected packages: farama-notifications, gymnasium\n",
            "Successfully installed farama-notifications-0.0.4 gymnasium-0.29.1\n"
          ]
        }
      ]
    },
    {
      "cell_type": "code",
      "execution_count": null,
      "metadata": {
        "id": "I23S-ZylZmOn"
      },
      "outputs": [],
      "source": [
        "import gymnasium as gym\n",
        "\n",
        "env = gym.make(\"MountainCar-v0\", render_mode=\"rgb_array\")\n",
        "env.reset()\n",
        "\n",
        "plt.imshow(env.render())\n",
        "print(\"Observation space:\", env.observation_space)\n",
        "print(\"Action space:\", env.action_space)\n"
      ]
    },
    {
      "cell_type": "code",
      "source": [
        "env.render()"
      ],
      "metadata": {
        "id": "jaH6DjTjsbHR",
        "outputId": "3c00b341-01b2-44e9-c26e-6d9c9136efb0",
        "colab": {
          "base_uri": "https://localhost:8080/",
          "height": 440
        }
      },
      "execution_count": 25,
      "outputs": [
        {
          "output_type": "execute_result",
          "data": {
            "text/plain": [
              "array([[[255, 255, 255],\n",
              "        [255, 255, 255],\n",
              "        [255, 255, 255],\n",
              "        ...,\n",
              "        [255, 255, 255],\n",
              "        [255, 255, 255],\n",
              "        [255, 255, 255]],\n",
              "\n",
              "       [[255, 255, 255],\n",
              "        [255, 255, 255],\n",
              "        [255, 255, 255],\n",
              "        ...,\n",
              "        [255, 255, 255],\n",
              "        [255, 255, 255],\n",
              "        [255, 255, 255]],\n",
              "\n",
              "       [[255, 255, 255],\n",
              "        [255, 255, 255],\n",
              "        [255, 255, 255],\n",
              "        ...,\n",
              "        [255, 255, 255],\n",
              "        [255, 255, 255],\n",
              "        [255, 255, 255]],\n",
              "\n",
              "       ...,\n",
              "\n",
              "       [[255, 255, 255],\n",
              "        [255, 255, 255],\n",
              "        [255, 255, 255],\n",
              "        ...,\n",
              "        [255, 255, 255],\n",
              "        [255, 255, 255],\n",
              "        [255, 255, 255]],\n",
              "\n",
              "       [[255, 255, 255],\n",
              "        [255, 255, 255],\n",
              "        [255, 255, 255],\n",
              "        ...,\n",
              "        [255, 255, 255],\n",
              "        [255, 255, 255],\n",
              "        [255, 255, 255]],\n",
              "\n",
              "       [[255, 255, 255],\n",
              "        [255, 255, 255],\n",
              "        [255, 255, 255],\n",
              "        ...,\n",
              "        [255, 255, 255],\n",
              "        [255, 255, 255],\n",
              "        [255, 255, 255]]], dtype=uint8)"
            ],
            "text/html": [
              "<style>\n",
              "      .ndarray_repr .ndarray_raw_data {\n",
              "        display: none;\n",
              "      }\n",
              "      .ndarray_repr.show_array .ndarray_raw_data {\n",
              "        display: block;\n",
              "      }\n",
              "      .ndarray_repr.show_array .ndarray_image_preview {\n",
              "        display: none;\n",
              "      }\n",
              "      </style>\n",
              "      <div id=\"id-b3ea691c-ed22-48cb-b691-888a575c197d\" class=\"ndarray_repr\"><pre>ndarray (400, 600, 3) <button style=\"padding: 0 2px;\">show data</button></pre><img src=\"data:image/png;base64,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\" class=\"ndarray_image_preview\" /><pre class=\"ndarray_raw_data\">array([[[255, 255, 255],\n",
              "        [255, 255, 255],\n",
              "        [255, 255, 255],\n",
              "        ...,\n",
              "        [255, 255, 255],\n",
              "        [255, 255, 255],\n",
              "        [255, 255, 255]],\n",
              "\n",
              "       [[255, 255, 255],\n",
              "        [255, 255, 255],\n",
              "        [255, 255, 255],\n",
              "        ...,\n",
              "        [255, 255, 255],\n",
              "        [255, 255, 255],\n",
              "        [255, 255, 255]],\n",
              "\n",
              "       [[255, 255, 255],\n",
              "        [255, 255, 255],\n",
              "        [255, 255, 255],\n",
              "        ...,\n",
              "        [255, 255, 255],\n",
              "        [255, 255, 255],\n",
              "        [255, 255, 255]],\n",
              "\n",
              "       ...,\n",
              "\n",
              "       [[255, 255, 255],\n",
              "        [255, 255, 255],\n",
              "        [255, 255, 255],\n",
              "        ...,\n",
              "        [255, 255, 255],\n",
              "        [255, 255, 255],\n",
              "        [255, 255, 255]],\n",
              "\n",
              "       [[255, 255, 255],\n",
              "        [255, 255, 255],\n",
              "        [255, 255, 255],\n",
              "        ...,\n",
              "        [255, 255, 255],\n",
              "        [255, 255, 255],\n",
              "        [255, 255, 255]],\n",
              "\n",
              "       [[255, 255, 255],\n",
              "        [255, 255, 255],\n",
              "        [255, 255, 255],\n",
              "        ...,\n",
              "        [255, 255, 255],\n",
              "        [255, 255, 255],\n",
              "        [255, 255, 255]]], dtype=uint8)</pre></div><script>\n",
              "      (() => {\n",
              "      const titles = ['show data', 'hide data'];\n",
              "      let index = 0\n",
              "      document.querySelector('#id-b3ea691c-ed22-48cb-b691-888a575c197d button').onclick = (e) => {\n",
              "        document.querySelector('#id-b3ea691c-ed22-48cb-b691-888a575c197d').classList.toggle('show_array');\n",
              "        index = (++index) % 2;\n",
              "        document.querySelector('#id-b3ea691c-ed22-48cb-b691-888a575c197d button').textContent = titles[index];\n",
              "        e.preventDefault();\n",
              "        e.stopPropagation();\n",
              "      }\n",
              "      })();\n",
              "    </script>"
            ]
          },
          "metadata": {},
          "execution_count": 25
        }
      ]
    },
    {
      "cell_type": "markdown",
      "metadata": {
        "id": "IOlr2B48ZmOo"
      },
      "source": [
        "Note: if you're running this on your local machine, you'll see a window pop up with the image above. Don't close it, just alt-tab away."
      ]
    },
    {
      "cell_type": "markdown",
      "metadata": {
        "id": "quuE4ROlZmOo"
      },
      "source": [
        "### Gymnasium interface\n",
        "\n",
        "The three main methods of an environment are\n",
        "* `reset()`: reset environment to the initial state, return first observation and dict with auxiliary info\n",
        "* `render()`: show current environment state (a more colorful version :) )\n",
        "* `step(a)`: commit action `a` and return `(new_observation, reward, terminated, truncated, info)`\n",
        " * `new_observation`: an observation right after committing the action `a`\n",
        " * `reward`: a number representing your reward for committing action `a`\n",
        " * `terminated`: True if the MDP has just finished, False if still in progress\n",
        " * `truncated`: True if the number of steps elapsed >= max episode steps\n",
        " * `info`: some auxiliary stuff about what just happened. For now, ignore it.\n",
        "\n",
        "A detailed explanation of the difference between `terminated` and `truncated` and how it should be used:\n",
        "1. https://gymnasium.farama.org/tutorials/gymnasium_basics/handling_time_limits/\n",
        "2. https://gymnasium.farama.org/content/migration-guide/"
      ]
    },
    {
      "cell_type": "code",
      "execution_count": 26,
      "metadata": {
        "id": "uU2rBOd-ZmOp",
        "outputId": "03be10c4-a899-4448-833f-70c254c74b29",
        "colab": {
          "base_uri": "https://localhost:8080/"
        }
      },
      "outputs": [
        {
          "output_type": "stream",
          "name": "stdout",
          "text": [
            "initial observation code: [-0.47260767  0.        ]\n",
            "initial observation code: [-0.49763566  0.        ]\n"
          ]
        }
      ],
      "source": [
        "# Set seed to reproduce initial state in stochastic environment\n",
        "obs0, info = env.reset(seed=0)\n",
        "print(\"initial observation code:\", obs0)\n",
        "\n",
        "obs0, info = env.reset(seed=1)\n",
        "print(\"initial observation code:\", obs0)\n",
        "\n",
        "# Note: in MountainCar, observation is just two numbers: car position and velocity\n"
      ]
    },
    {
      "cell_type": "code",
      "execution_count": 21,
      "metadata": {
        "id": "sR_TgYf4ZmOq",
        "outputId": "c0fc34c9-9889-4ee8-941d-ed5492f19341",
        "colab": {
          "base_uri": "https://localhost:8080/"
        }
      },
      "outputs": [
        {
          "output_type": "stream",
          "name": "stdout",
          "text": [
            "taking action 2 (right)\n",
            "new observation code: [-0.4968302   0.00080547]\n",
            "reward: -1.0\n",
            "is game over?: False\n",
            "is game truncated due to time limit?: False\n"
          ]
        }
      ],
      "source": [
        "print(\"taking action 2 (right)\")\n",
        "new_obs, reward, terminated, truncated, _ = env.step(2)\n",
        "\n",
        "print(\"new observation code:\", new_obs)\n",
        "print(\"reward:\", reward)\n",
        "print(\"is game over?:\", terminated)\n",
        "print(\"is game truncated due to time limit?:\", truncated)\n",
        "\n",
        "# Note: as you can see, the car has moved to the right slightly (around 0.0005)\n"
      ]
    },
    {
      "cell_type": "markdown",
      "metadata": {
        "id": "hlCO7leOZmOr"
      },
      "source": [
        "### Play with it\n",
        "\n",
        "Below is the code that drives the car to the right. However, if you simply use the default policy, the car will not reach the flag at the far right due to gravity.\n",
        "\n",
        "__Your task__ is to fix it. Find a strategy that reaches the flag.\n",
        "\n",
        "You are not required to build any sophisticated algorithms for now, and you definitely don't need to know any reinforcement learning for this. Feel free to hard-code :)"
      ]
    },
    {
      "cell_type": "code",
      "execution_count": 27,
      "metadata": {
        "id": "Clb9GeICZmOs"
      },
      "outputs": [],
      "source": [
        "from IPython import display\n",
        "\n",
        "# Create env manually to set time limit. Please don't change this.\n",
        "TIME_LIMIT = 250\n",
        "env = gym.wrappers.TimeLimit(\n",
        "    gym.make(\"MountainCar-v0\", render_mode=\"rgb_array\"),\n",
        "    max_episode_steps=TIME_LIMIT + 1,\n",
        ")\n",
        "actions = {\"left\": 0, \"stop\": 1, \"right\": 2}\n"
      ]
    },
    {
      "cell_type": "code",
      "execution_count": 28,
      "metadata": {
        "id": "NUrMHO4lZmOs"
      },
      "outputs": [],
      "source": [
        "def policy(obs, t):\n",
        "    # Write the code for your policy here. You can use the observation\n",
        "    # (a tuple of position and velocity), the current time step, or both,\n",
        "    # if you want.\n",
        "    position, velocity = obs\n",
        "\n",
        "    # This is an example policy. You can try running it, but it will not work.\n",
        "    # Your goal is to fix that. You don't need anything sophisticated here,\n",
        "    # and you can hard-code any policy that seems to work.\n",
        "    # Hint: think how you would make a swing go farther and faster.\n",
        "    action = actions[\"stop\"]\n",
        "    if (velocity  - 1e-3 < 0):\n",
        "        action = actions[\"left\"]\n",
        "    else:\n",
        "        action = actions[\"right\"]\n",
        "\n",
        "    return action\n"
      ]
    },
    {
      "cell_type": "code",
      "execution_count": 29,
      "metadata": {
        "id": "fzse4EaUZmOs",
        "outputId": "7cd48ed5-c52b-45e5-947f-dd01dcdc6ea1",
        "colab": {
          "base_uri": "https://localhost:8080/",
          "height": 272
        }
      },
      "outputs": [
        {
          "output_type": "display_data",
          "data": {
            "text/plain": [
              "<Figure size 400x300 with 1 Axes>"
            ],
            "image/png": "[encoded data removed]"
          },
          "metadata": {}
        }
      ],
      "source": [
        "plt.figure(figsize=(4, 3))\n",
        "display.clear_output(wait=True)\n",
        "\n",
        "obs, _ = env.reset()\n",
        "for t in range(TIME_LIMIT):\n",
        "    plt.gca().clear()\n",
        "\n",
        "    action = policy(obs, t)  # Call your policy\n",
        "    obs, reward, terminated, truncated, _ = env.step(\n",
        "        action\n",
        "    )  # Pass the action chosen by the policy to the environment\n",
        "\n",
        "    # We don't do anything with reward here because MountainCar is a very simple environment,\n",
        "    # and reward is a constant -1. Therefore, your goal is to end the episode as quickly as possible.\n",
        "\n",
        "    # Draw game image on display.\n",
        "    plt.imshow(env.render())\n",
        "\n",
        "    display.display(plt.gcf())\n",
        "    display.clear_output(wait=True)\n",
        "\n",
        "    if terminated or truncated:\n",
        "        print(\"Well done!\")\n",
        "        break\n",
        "else:\n",
        "    print(\"Time limit exceeded. Try again.\")\n",
        "\n",
        "display.clear_output(wait=True)\n"
      ]
    },
    {
      "cell_type": "code",
      "execution_count": 30,
      "metadata": {
        "id": "QxkH1aJUZmOt",
        "outputId": "2b1376b6-a782-4294-814c-839f62fe80b4",
        "colab": {
          "base_uri": "https://localhost:8080/"
        }
      },
      "outputs": [
        {
          "output_type": "stream",
          "name": "stdout",
          "text": [
            "You solved it!\n"
          ]
        }
      ],
      "source": [
        "assert obs[0] > 0.47\n",
        "print(\"You solved it!\")\n"
      ]
    },
    {
      "cell_type": "code",
      "source": [],
      "metadata": {
        "id": "OAkX3m52r5Ho"
      },
      "execution_count": null,
      "outputs": []
    }
  ],
  "metadata": {
    "language_info": {
      "name": "python"
    },
    "colab": {
      "provenance": []
    },
    "kernelspec": {
      "name": "python3",
      "display_name": "Python 3"
    }
  },
  "nbformat": 4,
  "nbformat_minor": 0
}
